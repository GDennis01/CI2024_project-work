{
 "cells": [
  {
   "cell_type": "markdown",
   "metadata": {},
   "source": [
    "## Imports\n"
   ]
  },
  {
   "cell_type": "code",
   "execution_count": 1,
   "metadata": {},
   "outputs": [],
   "source": [
    "import numpy as np\n",
    "from icecream import ic\n",
    "from gxgp import  Node\n",
    "import operator\n",
    "import inspect"
   ]
  },
  {
   "cell_type": "code",
   "execution_count": 2,
   "metadata": {},
   "outputs": [],
   "source": [
    "def numpy_wrapper(func):\n",
    "    \"\"\"\n",
    "    Crea un wrapper per una funzione di NumPy, trasformandola in una funzione Python pura.\n",
    "    \"\"\"\n",
    "    def wrapper(*args, **kwargs):\n",
    "        return func(*args, **kwargs)\n",
    "    \n",
    "    # Copia i metadati della funzione originale (se disponibili) al wrapper\n",
    "    wrapper.__name__ = func.__name__\n",
    "    wrapper.__doc__ = func.__doc__\n",
    "    return wrapper"
   ]
  },
  {
   "cell_type": "code",
   "execution_count": null,
   "metadata": {},
   "outputs": [
    {
     "name": "stdout",
     "output_type": "stream",
     "text": [
      "multiply(add(10, x), 2)\n"
     ]
    }
   ],
   "source": [
    "# ic(np.add)\n",
    "# wrapper_add = numpy_wrapper(operatoK\n",
    "# ic(operator.add)\n",
    "\n",
    "tree = Node(np.multiply, [Node(np.add, [Node(10), Node('x')]), Node(2)])"
   ]
  }
 ],
 "metadata": {
  "kernelspec": {
   "display_name": "VENVLAB4",
   "language": "python",
   "name": "python3"
  },
  "language_info": {
   "codemirror_mode": {
    "name": "ipython",
    "version": 3
   },
   "file_extension": ".py",
   "mimetype": "text/x-python",
   "name": "python",
   "nbconvert_exporter": "python",
   "pygments_lexer": "ipython3",
   "version": "3.10.11"
  }
 },
 "nbformat": 4,
 "nbformat_minor": 2
}
