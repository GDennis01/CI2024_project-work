{
 "cells": [
  {
   "cell_type": "markdown",
   "metadata": {},
   "source": [
    "## Imports\n"
   ]
  },
  {
   "cell_type": "code",
   "execution_count": null,
   "metadata": {},
   "outputs": [],
   "source": [
    "import numpy as np\n",
    "from icecream import ic\n",
    "from gxgp import  Node\n",
    "import operator\n",
    "import inspect"
   ]
  },
  {
   "cell_type": "code",
   "execution_count": null,
   "metadata": {},
   "outputs": [],
   "source": [
    "def true_f(x: np.ndarray) -> np.ndarray:\n",
    "    return x[0] + np.sin(x[1]) / 5"
   ]
  },
  {
   "cell_type": "code",
   "execution_count": null,
   "metadata": {},
   "outputs": [],
   "source": [
    "TEST_SIZE = 10_000\n",
    "TRAIN_SIZE = 1000\n",
    "\n",
    "# x_validation = np.vstack(\n",
    "#     [\n",
    "#         np.random.random_sample(size=TEST_SIZE) * 2 * np.pi - np.pi,\n",
    "#         np.random.random_sample(size=TEST_SIZE) * 2 - 1,\n",
    "#     ]\n",
    "# )\n",
    "# y_validation = true_f(x_validation)\n",
    "# train_indexes = np.random.choice(TEST_SIZE, size=TRAIN_SIZE, replace=False)\n",
    "# x_train = x_validation[:, train_indexes]\n",
    "# y_train = y_validation[train_indexes]\n",
    "# assert np.all(y_train == true_f(x_train)), \"D'ho\"\n",
    "\n",
    "# np.savez('problem_0.npz', x=x_train, y=y_train)\n",
    "problem = np.load('problem_0.npz')\n",
    "x = problem['x']\n",
    "y = problem['y']\n",
    "x.shape[0]\n",
    "number_vars = x.shape[0]\n"
   ]
  },
  {
   "cell_type": "markdown",
   "metadata": {},
   "source": [
    "### Getting numpy functions"
   ]
  },
  {
   "cell_type": "code",
   "execution_count": 20,
   "metadata": {},
   "outputs": [],
   "source": [
    "import numpy as np\n",
    "\n",
    "def get_np_functions()->list[tuple[np.ufunc,str,int]]:\n",
    "    # Get all attributes of numpy module\n",
    "    all_attrs = dir(np)\n",
    "\n",
    "    # Filter to include only ufunc objects\n",
    "    ufuncs = [getattr(np, attr) for attr in all_attrs if isinstance(getattr(np, attr), np.ufunc)]\n",
    "    # Filter to include only common ufuncs\n",
    "    ufunc_list = [(ufunc,ufunc.__name__,ufunc.nin) for ufunc in ufuncs if ufunc.__name__ in ['absolute','add','subtract','multiply','divide','sin','cos','sinh','cosh','asin','asinh','acos','acosh','sqrt','exp','exp2','log2','log','maximum','minimum',]]\n",
    "    return ufunc_list"
   ]
  },
  {
   "cell_type": "code",
   "execution_count": null,
   "metadata": {},
   "outputs": [],
   "source": [
    "from tree3 import TweakableBTree,NodeType,Node\n",
    "\n",
    "operator_list = get_np_functions()\n",
    "\n",
    "tree = TweakableBTree(0.5, operator_list, number_vars)\n",
    "idx = np.random.randint(0, len(operator_list))\n",
    "random_root = operator_list[idx]\n",
    "tree.root = Node(random_root,NodeType.B_OP if random_root[2] > 1 else NodeType.U_OP)\n",
    "\n",
    "node2 = Node(2)\n",
    "node3 = Node(3)\n",
    "tree.root.left = node2\n",
    "tree.root.right = node3\n",
    "\n",
    "# Aggiungere foglie\n",
    "tree.add_child_at(node2, 4,NodeType.CONST, 0)\n",
    "tree.add_child_at(node2, 5,NodeType.CONST, 1)\n",
    "tree.add_child_tail(6,NodeType.CONST,)\n",
    "tree.add_child_tail(6,NodeType.CONST,)\n",
    "tree.add_child_tail(6,NodeType.CONST,)\n",
    "tree.print_tree()\n",
    "tree.point_mutation(tree.root)\n",
    "print(\"-----------------\")\n",
    "tree.print_tree()\n",
    "print(\"-----------------\")\n",
    "tree.hoist_mutation(node2)\n",
    "tree.print_tree()\n",
    "\n"
   ]
  },
  {
   "cell_type": "code",
   "execution_count": null,
   "metadata": {},
   "outputs": [],
   "source": [
    "# split x0 into x and 0"
   ]
  }
 ],
 "metadata": {
  "kernelspec": {
   "display_name": "VENVLAB4",
   "language": "python",
   "name": "python3"
  },
  "language_info": {
   "codemirror_mode": {
    "name": "ipython",
    "version": 3
   },
   "file_extension": ".py",
   "mimetype": "text/x-python",
   "name": "python",
   "nbconvert_exporter": "python",
   "pygments_lexer": "ipython3",
   "version": "3.10.11"
  }
 },
 "nbformat": 4,
 "nbformat_minor": 2
}
