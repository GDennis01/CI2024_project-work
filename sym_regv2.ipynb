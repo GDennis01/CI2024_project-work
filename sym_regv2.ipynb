{
 "cells": [
  {
   "cell_type": "markdown",
   "metadata": {},
   "source": [
    "## Imports\n"
   ]
  },
  {
   "cell_type": "code",
   "execution_count": 53,
   "metadata": {},
   "outputs": [],
   "source": [
    "import numpy as np\n",
    "from icecream import ic\n",
    "from gxgp import  Node\n",
    "from tqdm import tqdm\n",
    "import operator\n",
    "import inspect"
   ]
  },
  {
   "cell_type": "code",
   "execution_count": 54,
   "metadata": {},
   "outputs": [],
   "source": [
    "a = np.array([1])"
   ]
  },
  {
   "cell_type": "code",
   "execution_count": 55,
   "metadata": {},
   "outputs": [],
   "source": [
    "def true_f(x: np.ndarray) -> np.ndarray:\n",
    "    return x[0] + np.sin(x[1]) / 5"
   ]
  },
  {
   "cell_type": "code",
   "execution_count": 78,
   "metadata": {},
   "outputs": [],
   "source": [
    "def my_f(x: np.ndarray) -> np.ndarray:\n",
    "    return x[0]"
   ]
  },
  {
   "cell_type": "code",
   "execution_count": 83,
   "metadata": {},
   "outputs": [
    {
     "data": {
      "text/plain": [
       "array([[-2.4300303 ,  2.38282117,  1.38014952, ...,  2.65852815,\n",
       "        -2.72159251,  1.4719692 ],\n",
       "       [-0.40491585,  0.62268698, -0.52027988, ..., -0.55608775,\n",
       "         0.60177422, -0.44432087]])"
      ]
     },
     "execution_count": 83,
     "metadata": {},
     "output_type": "execute_result"
    }
   ],
   "source": [
    "TEST_SIZE = 10_000\n",
    "TRAIN_SIZE = 1000\n",
    "\n",
    "def gen_problem():\n",
    "    x_validation = np.vstack(\n",
    "        [\n",
    "            np.random.random_sample(size=TEST_SIZE) * 2 * np.pi - np.pi,\n",
    "            np.random.random_sample(size=TEST_SIZE) * 2 - 1,\n",
    "        ]\n",
    "    )\n",
    "    y_validation = true_f(x_validation)\n",
    "    train_indexes = np.random.choice(TEST_SIZE, size=TRAIN_SIZE, replace=False)\n",
    "    x_train = x_validation[:, train_indexes]\n",
    "    y_train = y_validation[train_indexes]\n",
    "    assert np.all(y_train == true_f(x_train)), \"D'ho\"\n",
    "    return x_train, y_train\n",
    "\n",
    "# np.savez('problem_0.npz', x=x_train, y=y_train)\n",
    "problem = np.load('problem_0.npz')\n",
    "x = problem['x']\n",
    "y = problem['y']\n",
    "x.shape[0]\n",
    "number_vars = x.shape[0]\n",
    "# compute mse with truef as reference\n",
    "mse = true_f(x) - my_f(x)\n",
    "x\n",
    "\n"
   ]
  },
  {
   "cell_type": "markdown",
   "metadata": {},
   "source": [
    "### Getting numpy functions"
   ]
  },
  {
   "cell_type": "code",
   "execution_count": 58,
   "metadata": {},
   "outputs": [
    {
     "data": {
      "text/plain": [
       "array([None, None, None, None, None, None], dtype=object)"
      ]
     },
     "execution_count": 58,
     "metadata": {},
     "output_type": "execute_result"
    }
   ],
   "source": [
    "def get_np_functions()->list[tuple[np.ufunc,str,int]]:\n",
    "    # Get all attributes of numpy module\n",
    "    all_attrs = dir(np)\n",
    "\n",
    "    # Filter to include only ufunc objects\n",
    "    ufuncs = [getattr(np, attr) for attr in all_attrs if isinstance(getattr(np, attr), np.ufunc)]\n",
    "    # Filter to include only common ufuncs\n",
    "    # ufunc_list = [(ufunc,ufunc.__name__,ufunc.nin) for ufunc in ufuncs if ufunc.__name__ in ['absolute','add','subtract','multiply','divide','sin','cos','sinh','cosh','asin','asinh','acos','acosh','sqrt','exp','exp2','log2','log','maximum','minimum',]]\n",
    "    ufunc_list = [ufunc for ufunc in ufuncs if ufunc.__name__ in ['absolute','add','subtract','multiply','divide','sin','cos','sinh','cosh','asin','asinh','acos','acosh','sqrt','exp','exp2','log2','log','maximum','minimum',]]\n",
    "    return ufunc_list\n",
    "def myf(x: np.ndarray) -> np.ndarray:\n",
    "    return np.subtract(np.subtract(np.minimum(np.multiply(x[0],x[1]),np.multiply(x[2],x[3])),np.maximum(np.subtract(x[4],x[5]),np.multiply(x[6],x[7]))),np.divide(np.maximum(np.exp2(x[8]),np.subtract(x[9],69)),np.divide(np.log(32),np.cos(97))))\n",
    "myf(np.array([1,2,3,4,5,6,7,9,9,9,9]))\n",
    "s = np.array([1,2,3])\n",
    "np.concatenate([s,[None,None]])\n",
    "np.array([None] * (5 + 1))\n"
   ]
  },
  {
   "cell_type": "markdown",
   "metadata": {},
   "source": [
    "## Symbolic Regressor\n"
   ]
  },
  {
   "cell_type": "markdown",
   "metadata": {},
   "source": [
    "### Utilify Functions\n"
   ]
  },
  {
   "cell_type": "code",
   "execution_count": null,
   "metadata": {},
   "outputs": [],
   "source": [
    "from tree4 import FastTBTree\n",
    "def RHH_Init():\n",
    "    pass\n",
    "def fitness(tree:FastTBTree,x_train:np.ndarray,y_train:np.ndarray)->float:\n",
    "    res = [tree.evalute_tree(x) for x in x_train.T]\n",
    "    return np.mean((res-y_train)**2)\n",
    "def fitness_proportional_selection(trees:list[FastTBTree],n_elems=2)->list[FastTBTree]:\n",
    "    \"\"\"\n",
    "    Windowing version of fitness proportional selection\n",
    "    Each tree has a probability of (fitness-min(fitnesses))/(sum(fitnesses)-min(fitnesses)) to be chosen\n",
    "    \"\"\"\n",
    "    fitnesses = np.array([tree.fitness for tree in trees])\n",
    "    # print(fitnesses)\n",
    "    fitnesses = fitnesses - np.min(fitnesses)\n",
    "    fitnesses = fitnesses / np.sum(fitnesses)\n",
    "    # replace NaN with an high value\n",
    "    return np.random.choice(trees, n_elems, p=fitnesses)\n",
    "def tournament_selection(trees:list[FastTBTree],n_elems=2)->list[FastTBTree]:\n",
    "    \"\"\"\n",
    "    Tournament selection\n",
    "    \"\"\"\n",
    "    challengers = np.random.choice(trees, n_elems)\n",
    "    return sorted(challengers, key=lambda x: x.fitness)[0]\n",
    "\n",
    "\n",
    "def mutation(tree:FastTBTree,max_const:int,md:int)->FastTBTree:\n",
    "    \"\"\"\n",
    "    Mutation of a tree\n",
    "    Randomly select a mutation method and apply it\n",
    "    \"\"\"\n",
    "    mutation_kind = np.random.randint(5)\n",
    "    match mutation_kind:\n",
    "        case 0:\n",
    "            tree.point_mutation(max_const=max_const)\n",
    "            return tree\n",
    "        case 1:\n",
    "            tree.expansion_mutation(md)\n",
    "            return tree\n",
    "        case 2:\n",
    "            tree.hoist_mutation()\n",
    "            return tree\n",
    "        case 3:\n",
    "            tree.subtree_mutation(md)\n",
    "            return tree\n",
    "        case 4:\n",
    "            tree.collapse_subtree_mutation()\n",
    "            return tree\n",
    "\n",
    "\n"
   ]
  },
  {
   "cell_type": "markdown",
   "metadata": {},
   "source": [
    "### Regression "
   ]
  },
  {
   "cell_type": "code",
   "execution_count": null,
   "metadata": {},
   "outputs": [
    {
     "name": "stderr",
     "output_type": "stream",
     "text": [
      "c:\\Users\\denni\\Desktop\\PythonStuff\\CompInt\\Labs\\CI2024_lab4\\tree4.py:209: RuntimeWarning: invalid value encountered in sqrt\n",
      "  return node.data(FastTBTree._evalute_tree(tree, FastTBTree.get_lchild_idx(i), x))\n",
      "c:\\Users\\denni\\Desktop\\PythonStuff\\CompInt\\Labs\\CI2024_lab4\\tree4.py:209: RuntimeWarning: invalid value encountered in log2\n",
      "  return node.data(FastTBTree._evalute_tree(tree, FastTBTree.get_lchild_idx(i), x))\n",
      "c:\\Users\\denni\\Desktop\\PythonStuff\\CompInt\\Labs\\CI2024_lab4\\tree4.py:209: RuntimeWarning: overflow encountered in cosh\n",
      "  return node.data(FastTBTree._evalute_tree(tree, FastTBTree.get_lchild_idx(i), x))\n",
      "c:\\Users\\denni\\Desktop\\PythonStuff\\CompInt\\Labs\\CI2024_lab4\\tree4.py:209: RuntimeWarning: invalid value encountered in log\n",
      "  return node.data(FastTBTree._evalute_tree(tree, FastTBTree.get_lchild_idx(i), x))\n",
      "c:\\Users\\denni\\Desktop\\PythonStuff\\CompInt\\Labs\\CI2024_lab4\\tree4.py:209: RuntimeWarning: overflow encountered in sinh\n",
      "  return node.data(FastTBTree._evalute_tree(tree, FastTBTree.get_lchild_idx(i), x))\n",
      "100%|██████████| 40/40 [01:53<00:00,  2.83s/it]\n",
      "ic| [elem for elem in population if not np.isnan(elem.fitness) and not  np.isinf(elem.fitness)]: [<tree4.FastTBTree object at 0x0000023C7C7E8880>,\n",
      "                                                                                                  <tree4.FastTBTree object at 0x0000023C7DD809A0>,\n",
      "                                                                                                  <tree4.FastTBTree object at 0x0000023C7C7E8880>,\n",
      "                                                                                                  <tree4.FastTBTree object at 0x0000023C7DD809A0>,\n",
      "                                                                                                  <tree4.FastTBTree object at 0x0000023C7DD80DC0>,\n",
      "                                                                                                  <tree4.FastTBTree object at 0x0000023C7DD82830>,\n",
      "                                                                                                  <tree4.FastTBTree object at 0x0000023C7DD80EB0>,\n",
      "                                                                                                  <tree4.FastTBTree object at 0x0000023C7DD82D70>,\n",
      "                                                                                                  <tree4.FastTBTree object at 0x0000023C7DD831F0>,\n",
      "                                                                                                  <tree4.FastTBTree object at 0x0000023C7DD82DD0>]\n"
     ]
    },
    {
     "data": {
      "text/plain": [
       "[<tree4.FastTBTree at 0x23c7c7e8880>,\n",
       " <tree4.FastTBTree at 0x23c7dd809a0>,\n",
       " <tree4.FastTBTree at 0x23c7c7e8880>,\n",
       " <tree4.FastTBTree at 0x23c7dd809a0>,\n",
       " <tree4.FastTBTree at 0x23c7dd80dc0>,\n",
       " <tree4.FastTBTree at 0x23c7dd82830>,\n",
       " <tree4.FastTBTree at 0x23c7dd80eb0>,\n",
       " <tree4.FastTBTree at 0x23c7dd82d70>,\n",
       " <tree4.FastTBTree at 0x23c7dd831f0>,\n",
       " <tree4.FastTBTree at 0x23c7dd82dd0>]"
      ]
     },
     "execution_count": 63,
     "metadata": {},
     "output_type": "execute_result"
    }
   ],
   "source": [
    "N_VARS = number_vars\n",
    "MD = 5 # Maximum depth\n",
    "MAX_CONST = 1000 # Maximum constant value\n",
    "OFFSPRING_SIZE = 10\n",
    "GENERATIONS = 40\n",
    "PM = 0.05\n",
    "NAN_PENALTY = 10000\n",
    "\n",
    "operator_list = get_np_functions()\n",
    "FastTBTree.set_params(operator_list,N_VARS,MAX_CONST)\n",
    "# population = [TweakableBTree.generate_random_tree_growfull(operator_list,N_VARS,MD,True,PM) for _ in range(OFFSPRING_SIZE)]\n",
    "population = [FastTBTree.generate_random_tree_growfull(True,MD) for _ in range(OFFSPRING_SIZE)]\n",
    "\n",
    "for elem in population:\n",
    "    elem.fitness = fitness(elem,x,y)\n",
    "    if np.isnan(elem.fitness) or np.isinf(elem.fitness):\n",
    "        elem.fitness = np.float64(NAN_PENALTY)\n",
    "    # ic(elem.fitness)\n",
    "offspring = []\n",
    "for generation in tqdm(range(GENERATIONS)):\n",
    "    # parent selection\n",
    "    # parents = fitness_proportional_selection(population)\n",
    "    parents = [tournament_selection(population) for _ in range(2)]\n",
    "\n",
    "    # recombination\n",
    "    for _ in range(OFFSPRING_SIZE):\n",
    "        # o1,o2 = recombination(parents[0],parents[1])\n",
    "        o1,o2 = FastTBTree.recombination(parents[0],parents[1])\n",
    "        offspring.append(o1)\n",
    "        offspring.append(o2)\n",
    "\n",
    "    # if np.random.rand() < PM:\n",
    "    #     offspring_idx = np.random.randint(OFFSPRING_SIZE)\n",
    "    #     mutation(population[offspring_idx],MAX_CONST,MD)\n",
    "\n",
    "    # mutation\n",
    "    \n",
    "\n",
    "    # survivor selection\n",
    "    population.extend(offspring)\n",
    "    for elem in population:\n",
    "        elem.fitness = fitness(elem,x,y)\n",
    "        if np.isnan(elem.fitness)  or np.isinf(elem.fitness):\n",
    "            elem.fitness = np.float64(NAN_PENALTY)\n",
    "    population.sort(key=operator.attrgetter('fitness'))\n",
    "    population = population[:OFFSPRING_SIZE]\n",
    "\n",
    "# ic([elem for elem in population if not np.isnan(elem.fitness) and not  np.isinf(elem.fitness)])"
   ]
  },
  {
   "cell_type": "code",
   "execution_count": 1,
   "metadata": {},
   "outputs": [
    {
     "ename": "NameError",
     "evalue": "name 'ic' is not defined",
     "output_type": "error",
     "traceback": [
      "\u001b[1;31m---------------------------------------------------------------------------\u001b[0m",
      "\u001b[1;31mNameError\u001b[0m                                 Traceback (most recent call last)",
      "Cell \u001b[1;32mIn[1], line 1\u001b[0m\n\u001b[1;32m----> 1\u001b[0m \u001b[43mic\u001b[49m([elem\u001b[38;5;241m.\u001b[39mfitness \u001b[38;5;28;01mfor\u001b[39;00m elem \u001b[38;5;129;01min\u001b[39;00m population])\n\u001b[0;32m      2\u001b[0m \u001b[38;5;66;03m# ic([elem.to_np_formula() for elem in population])\u001b[39;00m\n\u001b[0;32m      3\u001b[0m population[\u001b[38;5;241m1\u001b[39m]\u001b[38;5;241m.\u001b[39mprint_tree()\n",
      "\u001b[1;31mNameError\u001b[0m: name 'ic' is not defined"
     ]
    }
   ],
   "source": [
    "ic([elem.fitness for elem in population])\n",
    "# ic([elem.to_np_formula() for elem in population])\n",
    "population[1].print_tree()\n"
   ]
  }
 ],
 "metadata": {
  "kernelspec": {
   "display_name": "VENVLAB4",
   "language": "python",
   "name": "python3"
  },
  "language_info": {
   "codemirror_mode": {
    "name": "ipython",
    "version": 3
   },
   "file_extension": ".py",
   "mimetype": "text/x-python",
   "name": "python",
   "nbconvert_exporter": "python",
   "pygments_lexer": "ipython3",
   "version": "3.10.11"
  }
 },
 "nbformat": 4,
 "nbformat_minor": 2
}
