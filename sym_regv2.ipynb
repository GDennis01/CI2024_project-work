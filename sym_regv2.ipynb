{
 "cells": [
  {
   "cell_type": "markdown",
   "metadata": {},
   "source": [
    "## Imports\n"
   ]
  },
  {
   "cell_type": "code",
   "execution_count": 107,
   "metadata": {},
   "outputs": [],
   "source": [
    "import numpy as np\n",
    "from icecream import ic\n",
    "from gxgp import  Node\n",
    "from tqdm import tqdm\n",
    "import operator\n",
    "import inspect"
   ]
  },
  {
   "cell_type": "code",
   "execution_count": 108,
   "metadata": {},
   "outputs": [],
   "source": [
    "a = np.array([1])"
   ]
  },
  {
   "cell_type": "code",
   "execution_count": 109,
   "metadata": {},
   "outputs": [],
   "source": [
    "def true_f(x: np.ndarray) -> np.ndarray:\n",
    "    return x[0] + np.sin(x[1]) / 5\n",
    "def true_f2(x: np.ndarray) -> np.ndarray:\n",
    "    return x[0] + np.sin(x[1]) / 5 + x[0] * x[2] / 10"
   ]
  },
  {
   "cell_type": "code",
   "execution_count": 110,
   "metadata": {},
   "outputs": [],
   "source": [
    "def my_f(x: np.ndarray) -> np.ndarray:\n",
    "    return np.minimum(np.divide(np.maximum(np.maximum(x[1],x[2]),np.absolute(435)),np.sqrt(385)),x[0])"
   ]
  },
  {
   "cell_type": "code",
   "execution_count": 111,
   "metadata": {},
   "outputs": [],
   "source": [
    "def mse(y_true: np.ndarray, y_pred: np.ndarray) -> float:\n",
    "    return np.mean((y_true - y_pred) ** 2)"
   ]
  },
  {
   "cell_type": "code",
   "execution_count": 112,
   "metadata": {},
   "outputs": [
    {
     "data": {
      "text/plain": [
       "np.float64(845.0166239907486)"
      ]
     },
     "execution_count": 112,
     "metadata": {},
     "output_type": "execute_result"
    }
   ],
   "source": [
    "TEST_SIZE = 10_000\n",
    "TRAIN_SIZE = 1000\n",
    "\n",
    "def gen_problem():\n",
    "    x_validation = np.vstack(\n",
    "        [\n",
    "            np.random.random_sample(size=TEST_SIZE) * 2 * np.pi - np.pi,\n",
    "            np.random.random_sample(size=TEST_SIZE) * 2 - 1,\n",
    "        ]\n",
    "    )\n",
    "    y_validation = true_f(x_validation)\n",
    "    train_indexes = np.random.choice(TEST_SIZE, size=TRAIN_SIZE, replace=False)\n",
    "    x_train = x_validation[:, train_indexes]\n",
    "    y_train = y_validation[train_indexes]\n",
    "    assert np.all(y_train == true_f(x_train)), \"D'ho\"\n",
    "    return x_train, y_train\n",
    "def gen_problem2():\n",
    "    x_validation = np.vstack(\n",
    "        [\n",
    "            np.random.random_sample(size=TEST_SIZE) * np.exp(3)-np.exp(1),\n",
    "            np.random.random_sample(size=TEST_SIZE) * 2 - 1,\n",
    "            np.random.random_sample(size=TEST_SIZE) * 57 - 1,\n",
    "        ]\n",
    "    )\n",
    "    y_validation = true_f2(x_validation)\n",
    "    train_indexes = np.random.choice(TEST_SIZE, size=TRAIN_SIZE, replace=False)\n",
    "    x_train = x_validation[:, train_indexes]\n",
    "    y_train = y_validation[train_indexes]\n",
    "    assert np.all(y_train == true_f2(x_train)), \"D'ho\"\n",
    "    return x_train, y_train\n",
    "\n",
    "# np.savez('problem_0.npz', x=x_train, y=y_train)\n",
    "# problem = np.load('problem_0.npz')\n",
    "# x = problem['x']\n",
    "# y = problem['y']\n",
    "\n",
    "problem = gen_problem2()\n",
    "x = problem[0]\n",
    "y = problem[1]\n",
    "\n",
    "number_vars = x.shape[0]\n",
    "# compute mse with truef as reference\n",
    "m_s_e = mse(my_f(x), y)\n",
    "m_s_e\n",
    "\n"
   ]
  },
  {
   "cell_type": "markdown",
   "metadata": {},
   "source": [
    "### Getting numpy functions"
   ]
  },
  {
   "cell_type": "code",
   "execution_count": 113,
   "metadata": {},
   "outputs": [
    {
     "data": {
      "text/plain": [
       "['absolute',\n",
       " 'absolute',\n",
       " 'arccos',\n",
       " 'arccosh',\n",
       " 'add',\n",
       " 'arccos',\n",
       " 'arccosh',\n",
       " 'arcsin',\n",
       " 'arcsinh',\n",
       " 'arctan',\n",
       " 'arctan2',\n",
       " 'arctanh',\n",
       " 'arcsin',\n",
       " 'arcsinh',\n",
       " 'arctan',\n",
       " 'arctan2',\n",
       " 'arctanh',\n",
       " 'ceil',\n",
       " 'cos',\n",
       " 'cosh',\n",
       " 'divide',\n",
       " 'exp',\n",
       " 'exp2',\n",
       " 'log',\n",
       " 'log10',\n",
       " 'log1p',\n",
       " 'log2',\n",
       " 'logaddexp',\n",
       " 'logaddexp2',\n",
       " 'maximum',\n",
       " 'minimum',\n",
       " 'multiply',\n",
       " 'power',\n",
       " 'power',\n",
       " 'sin',\n",
       " 'sinh',\n",
       " 'sqrt',\n",
       " 'square',\n",
       " 'subtract',\n",
       " 'tan',\n",
       " 'tanh',\n",
       " 'divide']"
      ]
     },
     "execution_count": 113,
     "metadata": {},
     "output_type": "execute_result"
    }
   ],
   "source": [
    "def get_np_functions()->list[tuple[np.ufunc,str,int]]:\n",
    "    # Get all attributes of numpy module\n",
    "    all_attrs = dir(np)\n",
    "\n",
    "    # Filter to include only ufunc objects\n",
    "    ufuncs = [getattr(np, attr) for attr in all_attrs if isinstance(getattr(np, attr), np.ufunc)]\n",
    "    ufunc_list = ufuncs\n",
    "    # Filter to include only common ufuncs\n",
    "    # ufunc_list = [(ufunc,ufunc.__name__,ufunc.nin) for ufunc in ufuncs if ufunc.__name__ in ['absolute','add','subtract','multiply','divide','sin','cos','sinh','cosh','asin','asinh','acos','acosh','sqrt','exp','exp2','log2','log','maximum','minimum',]]\n",
    "    # ufunc_list = [ufunc for ufunc in ufuncs if ufunc.__name__ in ['absolute','add','subtract','multiply','divide','sin','cos','sinh','cosh','asin','asinh','acos','acosh','sqrt','exp','exp2','log2','log','maximum','minimum',]]\n",
    "    ufunc_list = [ufunc for ufunc in ufuncs if ufunc.__name__ in ['absolute','absolute','arccos','arccosh','add','arccos','arccosh','arcsin','arcsinh','arctan','arctan2','arctanh','arcsin','arcsinh','arctan','arctan2','arctanh','ceil','cos','cosh','exp','exp2','log','log10','log1p','log2','logaddexp','logaddexp2','maximum','minimum','multiply','power','sin','sinh','sqrt','square','subtract','tan','tanh','divide']]\n",
    "    return ufunc_list\n",
    "ufunc_list = get_np_functions()\n",
    "[ufunc_list.__name__ for ufunc_list in ufunc_list]\n"
   ]
  },
  {
   "cell_type": "code",
   "execution_count": null,
   "metadata": {},
   "outputs": [],
   "source": []
  },
  {
   "cell_type": "markdown",
   "metadata": {},
   "source": [
    "## Symbolic Regressor\n"
   ]
  },
  {
   "cell_type": "markdown",
   "metadata": {},
   "source": [
    "### Utilify Functions\n"
   ]
  },
  {
   "cell_type": "code",
   "execution_count": 114,
   "metadata": {},
   "outputs": [],
   "source": [
    "from tree4 import FastTBTree\n",
    "def RHH_Init():\n",
    "    pass\n",
    "def fitness(tree:FastTBTree,x_train:np.ndarray,y_train:np.ndarray)->float:\n",
    "    res = [tree.evalute_tree(x) for x in x_train.T]\n",
    "    return np.mean((res-y_train)**2)\n",
    "def fitness_proportional_selection(trees:list[FastTBTree],n_elems=2)->list[FastTBTree]:\n",
    "    \"\"\"\n",
    "    Windowing version of fitness proportional selection\n",
    "    Each tree has a probability of (fitness-min(fitnesses))/(sum(fitnesses)-min(fitnesses)) to be chosen\n",
    "    \"\"\"\n",
    "    fitnesses = np.array([tree.fitness for tree in trees])\n",
    "    # print(fitnesses)\n",
    "    fitnesses = fitnesses - np.min(fitnesses)\n",
    "    fitnesses = fitnesses / np.sum(fitnesses)\n",
    "  \n",
    "    return np.random.choice(trees, n_elems, p=fitnesses)\n",
    "def tournament_selection(trees:list[FastTBTree],n_elems=2)->list[FastTBTree]:\n",
    "    \"\"\"\n",
    "    Tournament selection\n",
    "    \"\"\"\n",
    "    challengers = np.random.choice(trees, n_elems)\n",
    "    return sorted(challengers, key=lambda x: x.fitness)[0]\n",
    "\n",
    "\n",
    "def mutation(tree:FastTBTree,max_const:int,md:int)->FastTBTree:\n",
    "    \"\"\"\n",
    "    Mutation of a tree\n",
    "    Randomly select a mutation method and apply it\n",
    "    \"\"\"\n",
    "    mutation_kind = np.random.randint(5)\n",
    "    match mutation_kind:\n",
    "        case 0:\n",
    "            tree.point_mutation(max_const=max_const)\n",
    "            return tree\n",
    "        case 1:\n",
    "            tree.expansion_mutation(md)\n",
    "            return tree\n",
    "        case 2:\n",
    "            tree.hoist_mutation()\n",
    "            return tree\n",
    "        case 3:\n",
    "            tree.subtree_mutation(md)\n",
    "            return tree\n",
    "        case 4:\n",
    "            tree.collapse_subtree_mutation()\n",
    "            return tree\n",
    "\n",
    "\n"
   ]
  },
  {
   "cell_type": "markdown",
   "metadata": {},
   "source": [
    "### Regression "
   ]
  },
  {
   "cell_type": "code",
   "execution_count": 115,
   "metadata": {},
   "outputs": [
    {
     "name": "stderr",
     "output_type": "stream",
     "text": [
      "c:\\Users\\denni\\Desktop\\PythonStuff\\CompInt\\Labs\\CI2024_lab4\\tree4.py:209: RuntimeWarning: invalid value encountered in tan\n",
      "  return node.data(FastTBTree._evalute_tree(tree, FastTBTree.get_lchild_idx(i), x))\n",
      "  0%|          | 0/100 [00:00<?, ?it/s]C:\\Users\\denni\\AppData\\Local\\Temp\\ipykernel_15896\\1202639717.py:6: RuntimeWarning: overflow encountered in square\n",
      "  return np.mean((res-y_train)**2)\n",
      "100%|██████████| 100/100 [00:25<00:00,  3.92it/s]\n"
     ]
    },
    {
     "data": {
      "text/plain": [
       "<tree4.FastTBTree at 0x1c035f05f90>"
      ]
     },
     "execution_count": 115,
     "metadata": {},
     "output_type": "execute_result"
    }
   ],
   "source": [
    "N_VARS = number_vars\n",
    "MD = 6 # Maximum depth\n",
    "MAX_CONST = 1000 # Maximum constant value\n",
    "OFFSPRING_SIZE = 20\n",
    "GENERATIONS = 100\n",
    "PM = 0.05\n",
    "NAN_PENALTY = 1000\n",
    "FIX_NAN = True\n",
    "\n",
    "operator_list = get_np_functions()\n",
    "FastTBTree.set_params(operator_list,N_VARS,MAX_CONST)\n",
    "# RHH initialization\n",
    "population = [FastTBTree.generate_random_tree_growfull(True,MD) for _ in range(OFFSPRING_SIZE)]\n",
    "# population.extend([FastTBTree.generate_random_tree_growfull(False,MD*2) for _ in range(OFFSPRING_SIZE)])\n",
    "\n",
    "best_solution = population[0]\n",
    "\n",
    "for elem in population:\n",
    "    elem.fitness = fitness(elem,x,y)\n",
    "    if FIX_NAN and np.isnan(elem.fitness) or np.isinf(elem.fitness):\n",
    "        elem.fitness = np.float64(NAN_PENALTY)\n",
    "    # ic(elem.fitness)\n",
    "offspring = []\n",
    "for generation in tqdm(range(GENERATIONS)):\n",
    "    offspring = []\n",
    "    # parent selection\n",
    "    # parents = fitness_proportional_selection(population)\n",
    "    parents = [tournament_selection(population) for _ in range(2)]\n",
    "    # recombination\n",
    "    # for _ in range(OFFSPRING_SIZE):\n",
    "        # o1,o2 = recombination(parents[0],parents[1])\n",
    "    o1,o2 = FastTBTree.recombination(parents[0],parents[1])\n",
    "    offspring.append(o1)\n",
    "    offspring.append(o2)\n",
    "\n",
    "    # if np.random.rand() < PM:\n",
    "    #     offspring_idx = np.random.randint(OFFSPRING_SIZE)\n",
    "    #     mutation(population[offspring_idx],MAX_CONST,MD)\n",
    "\n",
    "    # mutation\n",
    "    \n",
    "\n",
    "    # survivor selection\n",
    "    population.extend(offspring)\n",
    "    for elem in population:\n",
    "        elem.fitness = fitness(elem,x,y)\n",
    "        if FIX_NAN and np.isnan(elem.fitness)  or np.isinf(elem.fitness):\n",
    "            elem.fitness = np.float64(NAN_PENALTY)\n",
    "    population.sort(key=operator.attrgetter('fitness'))\n",
    "    population = population[:OFFSPRING_SIZE]\n",
    "    if population[0].fitness < best_solution.fitness:\n",
    "        best_solution = population[0]\n",
    "best_solution\n",
    "\n",
    "\n",
    "# ic([elem for elem in population if not np.isnan(elem.fitness) and not  np.isinf(elem.fitness)])"
   ]
  },
  {
   "cell_type": "code",
   "execution_count": 116,
   "metadata": {},
   "outputs": [
    {
     "name": "stderr",
     "output_type": "stream",
     "text": [
      "ic| [elem.fitness for elem in population]: [np.float64(694.2573550144789),\n",
      "                                            np.float64(694.2573550144789),\n",
      "                                            np.float64(694.2573550144789),\n",
      "                                            np.float64(694.2573550144789),\n",
      "                                            np.float64(694.2573550144789),\n",
      "                                            np.float64(694.2573550144789),\n",
      "                                            np.float64(694.2573550144789),\n",
      "                                            np.float64(694.2573550144789),\n",
      "                                            np.float64(694.2573550144789),\n",
      "                                            np.float64(694.2573550144789),\n",
      "                                            np.float64(694.2573550144789),\n",
      "                                            np.float64(694.2573550144789),\n",
      "                                            np.float64(694.2573550144789),\n",
      "                                            np.float64(694.2573550144789),\n",
      "                                            np.float64(694.2573550144789),\n",
      "                                            np.float64(694.2573550144789),\n",
      "                                            np.float64(694.2573550144789),\n",
      "                                            np.float64(694.2573550144789),\n",
      "                                            np.float64(694.2573550144789),\n",
      "                                            np.float64(694.2573550144789)]\n"
     ]
    },
    {
     "data": {
      "text/plain": [
       "'30'"
      ]
     },
     "execution_count": 116,
     "metadata": {},
     "output_type": "execute_result"
    }
   ],
   "source": [
    "ic([elem.fitness for elem in population])\n",
    "# ic([elem.to_np_formula() for elem in population])\n",
    "# print(population[0].print_tree())\n",
    "best_solution.to_np_formula()\n",
    "population[0].to_np_formula()\n",
    "\n"
   ]
  }
 ],
 "metadata": {
  "kernelspec": {
   "display_name": "VENVLAB4",
   "language": "python",
   "name": "python3"
  },
  "language_info": {
   "codemirror_mode": {
    "name": "ipython",
    "version": 3
   },
   "file_extension": ".py",
   "mimetype": "text/x-python",
   "name": "python",
   "nbconvert_exporter": "python",
   "pygments_lexer": "ipython3",
   "version": "3.10.11"
  }
 },
 "nbformat": 4,
 "nbformat_minor": 2
}
